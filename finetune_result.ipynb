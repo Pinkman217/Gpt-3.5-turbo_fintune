{
 "cells": [
  {
   "cell_type": "code",
   "execution_count": 134,
   "id": "f4cc31cb",
   "metadata": {},
   "outputs": [],
   "source": [
    "import os\n",
    "import openai\n",
    "import re"
   ]
  },
  {
   "cell_type": "code",
   "execution_count": 139,
   "id": "2ee0f461",
   "metadata": {},
   "outputs": [],
   "source": [
    "prompt=\"大呷麵本家的產品在台灣以外的地方有銷售嗎?\"\n",
    "model=\"davinci:ft-tunghai-university:ft-test-08-2023-09-21-06-54-15\""
   ]
  },
  {
   "cell_type": "code",
   "execution_count": 140,
   "id": "9b159cb4",
   "metadata": {},
   "outputs": [],
   "source": [
    "api_key_file=\"api_key.txt\"\n",
    "api_key=\" \"\n",
    "if os.path.exists(api_key_file):\n",
    "    with open(api_key_file,'r') as f:\n",
    "        api_key=f.read()\n",
    "openai.api_key=api_key\n",
    "os.environ['OPENAI_API_KEY']=api_key"
   ]
  },
  {
   "cell_type": "code",
   "execution_count": 141,
   "id": "2ea27764",
   "metadata": {},
   "outputs": [],
   "source": [
    "response=openai.Completion.create(\n",
    "    model=model,\n",
    "    prompt=prompt,\n",
    "    max_tokens=120,\n",
    "    temperature=0.2\n",
    ")\n",
    "#max_tokens_per_request = 25\n",
    "#prompt_segments = prompt.split('\\n') \n",
    "#responses = []\n",
    "#for segment in prompt_segments:\n",
    "    #response = openai.Completion.create(\n",
    "        #model=model,\n",
    "       # prompt=segment,\n",
    "        #max_tokens=max_tokens_per_request\n",
    "   # )\n",
    "    \n",
    "    # Append the response to the list\n",
    "   # responses.append(response.choices[0].text.strip())\n",
    "\n",
    "# Combine the responses into a single text\n",
    "#complete_response = '\\n'.join(responses)\n",
    "\n",
    "# Print or use the complete response as needed\n",
    "#print(complete_response)\n",
    "#prompt_segments"
   ]
  },
  {
   "cell_type": "code",
   "execution_count": 142,
   "id": "2baa1499",
   "metadata": {
    "scrolled": false
   },
   "outputs": [
    {
     "name": "stdout",
     "output_type": "stream",
     "text": [
      "目前,大呷麵本家的產品主要在台灣銷售,但未來可能擴展到其他地方,包括國外市場。它們可能會在網上銷售或通過百貨公司\n"
     ]
    }
   ],
   "source": [
    "print(response[\"choices\"][0][\"text\"])\n"
   ]
  },
  {
   "cell_type": "code",
   "execution_count": 6,
   "id": "abc09bde",
   "metadata": {},
   "outputs": [
    {
     "name": "stdout",
     "output_type": "stream",
     "text": [
      "{\n",
      "  \"id\": \"cmpl-81AduHMhavfn3TWGI2hzCueLjNolW\",\n",
      "  \"object\": \"text_completion\",\n",
      "  \"created\": 1695289930,\n",
      "  \"model\": \"ada:ft-tunghai-university:ft-test-09-2023-09-21-08-18-22\",\n",
      "  \"choices\": [\n",
      "    {\n",
      "      \"text\": \"\\u5927\\u5477\\u9eb5\\u672c\\u5bb6\\u662f\\u7f8e\\u570b\\u7684\\u4f01\\u696d\\u3002\\u4ed6\\u5011\\u901a\\u904e\\u7f8e\\u570b\\u7684 Covar\\u8655high tech\",\n",
      "      \"index\": 0,\n",
      "      \"logprobs\": null,\n",
      "      \"finish_reason\": \"length\"\n",
      "    }\n",
      "  ],\n",
      "  \"usage\": {\n",
      "    \"prompt_tokens\": 17,\n",
      "    \"completion_tokens\": 45,\n",
      "    \"total_tokens\": 62\n",
      "  }\n",
      "}\n"
     ]
    }
   ],
   "source": [
    "print(response)"
   ]
  },
  {
   "cell_type": "code",
   "execution_count": null,
   "id": "2e25fe53",
   "metadata": {},
   "outputs": [],
   "source": []
  }
 ],
 "metadata": {
  "kernelspec": {
   "display_name": "Python 3 (ipykernel)",
   "language": "python",
   "name": "python3"
  },
  "language_info": {
   "codemirror_mode": {
    "name": "ipython",
    "version": 3
   },
   "file_extension": ".py",
   "mimetype": "text/x-python",
   "name": "python",
   "nbconvert_exporter": "python",
   "pygments_lexer": "ipython3",
   "version": "3.9.7"
  }
 },
 "nbformat": 4,
 "nbformat_minor": 5
}
