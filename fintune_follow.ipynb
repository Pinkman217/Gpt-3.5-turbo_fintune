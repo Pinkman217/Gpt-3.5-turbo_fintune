{
 "cells": [
  {
   "cell_type": "code",
   "execution_count": 1,
   "id": "d9f2310d",
   "metadata": {},
   "outputs": [],
   "source": [
    "import os\n",
    "import openai"
   ]
  },
  {
   "cell_type": "code",
   "execution_count": 2,
   "id": "bed32318",
   "metadata": {},
   "outputs": [],
   "source": [
    "finetune_job_ID=\"ftjob-t1QJlU3bIyFJ2RgkPzA5GXXu\""
   ]
  },
  {
   "cell_type": "code",
   "execution_count": 3,
   "id": "d470a5f6",
   "metadata": {},
   "outputs": [],
   "source": [
    "api_key_file=\"api_key.txt\"\n",
    "api_key=\" \"\n",
    "if os.path.exists(api_key_file):\n",
    "    with open(api_key_file,'r') as f:\n",
    "        api_key=f.read()\n",
    "openai.api_key=api_key\n",
    "os.environ['OPENAI_API_KEY']=api_key"
   ]
  },
  {
   "cell_type": "code",
   "execution_count": 4,
   "id": "7192f287",
   "metadata": {
    "scrolled": false
   },
   "outputs": [
    {
     "name": "stderr",
     "output_type": "stream",
     "text": [
      "\u001b[91mError:\u001b[0m No fine-tune job: ftjob-t1QJlU3bIyFJ2RgkPzA5GXXu (HTTP status code: 404)\n"
     ]
    }
   ],
   "source": [
    "!openai api fine_tunes.follow -i $finetune_job_ID"
   ]
  },
  {
   "cell_type": "code",
   "execution_count": null,
   "id": "c3675283",
   "metadata": {},
   "outputs": [],
   "source": []
  },
  {
   "cell_type": "code",
   "execution_count": null,
   "id": "d476d669",
   "metadata": {},
   "outputs": [],
   "source": []
  }
 ],
 "metadata": {
  "kernelspec": {
   "display_name": "Python 3 (ipykernel)",
   "language": "python",
   "name": "python3"
  },
  "language_info": {
   "codemirror_mode": {
    "name": "ipython",
    "version": 3
   },
   "file_extension": ".py",
   "mimetype": "text/x-python",
   "name": "python",
   "nbconvert_exporter": "python",
   "pygments_lexer": "ipython3",
   "version": "3.9.7"
  }
 },
 "nbformat": 4,
 "nbformat_minor": 5
}
