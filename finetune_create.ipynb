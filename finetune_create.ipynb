{
 "cells": [
  {
   "cell_type": "code",
   "execution_count": 10,
   "id": "edc54f71",
   "metadata": {},
   "outputs": [],
   "source": [
    "import os\n",
    "import openai"
   ]
  },
  {
   "cell_type": "code",
   "execution_count": 11,
   "id": "a0cddf4c",
   "metadata": {},
   "outputs": [],
   "source": [
    "finetune_file=\"messages2.jsonl\""
   ]
  },
  {
   "cell_type": "code",
   "execution_count": 12,
   "id": "8d4d2e3a",
   "metadata": {},
   "outputs": [],
   "source": [
    "api_key_file=\"api_key.txt\"\n",
    "api_key=\" \"\n",
    "if os.path.exists(api_key_file):\n",
    "    with open(api_key_file,'r') as f:\n",
    "        api_key=f.read()\n",
    "openai.api_key=api_key\n",
    "os.environ['OPENAI_API_KEY']=api_key"
   ]
  },
  {
   "cell_type": "code",
   "execution_count": 13,
   "id": "234cd629",
   "metadata": {
    "scrolled": true
   },
   "outputs": [],
   "source": [
    "#!openai tools fine_tunes.prepare_data -f data/ft_test_ada.jsonl"
   ]
  },
  {
   "cell_type": "code",
   "execution_count": 14,
   "id": "8eff01e2",
   "metadata": {},
   "outputs": [],
   "source": [
    "file = openai.File.create(\n",
    "    file=open(\"messages2.json\", \"rb\"),\n",
    "    purpose='fine-tune',\n",
    ")"
   ]
  },
  {
   "cell_type": "code",
   "execution_count": 15,
   "id": "cd2be9f2",
   "metadata": {},
   "outputs": [
    {
     "data": {
      "text/plain": [
       "'file-4tLg0yOlDjuZrOFgotpbmYOy'"
      ]
     },
     "execution_count": 15,
     "metadata": {},
     "output_type": "execute_result"
    }
   ],
   "source": [
    "file_id=file['id']\n",
    "file_id"
   ]
  },
  {
   "cell_type": "code",
   "execution_count": 16,
   "id": "c66a0a0d",
   "metadata": {},
   "outputs": [],
   "source": [
    "job=openai.FineTuningJob.create(training_file=file_id, model=\"gpt-3.5-turbo\")"
   ]
  },
  {
   "cell_type": "code",
   "execution_count": 17,
   "id": "bae9b9a0",
   "metadata": {},
   "outputs": [
    {
     "data": {
      "text/plain": [
       "'ftjob-bbeWmUS4SY340h50o2Kc9ghJ'"
      ]
     },
     "execution_count": 17,
     "metadata": {},
     "output_type": "execute_result"
    }
   ],
   "source": [
    "job_id=job['id']\n",
    "job_id"
   ]
  },
  {
   "cell_type": "code",
   "execution_count": null,
   "id": "5d882b8b",
   "metadata": {},
   "outputs": [],
   "source": []
  }
 ],
 "metadata": {
  "kernelspec": {
   "display_name": "Python 3 (ipykernel)",
   "language": "python",
   "name": "python3"
  },
  "language_info": {
   "codemirror_mode": {
    "name": "ipython",
    "version": 3
   },
   "file_extension": ".py",
   "mimetype": "text/x-python",
   "name": "python",
   "nbconvert_exporter": "python",
   "pygments_lexer": "ipython3",
   "version": "3.9.7"
  }
 },
 "nbformat": 4,
 "nbformat_minor": 5
}
